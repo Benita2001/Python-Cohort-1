{
 "cells": [
  {
   "cell_type": "markdown",
   "id": "2d2a256e",
   "metadata": {},
   "source": [
    "# STRING"
   ]
  },
  {
   "cell_type": "code",
   "execution_count": 1,
   "id": "bf05d42f",
   "metadata": {},
   "outputs": [],
   "source": [
    "name = 'blockchain'"
   ]
  },
  {
   "cell_type": "code",
   "execution_count": 2,
   "id": "51b6469b",
   "metadata": {},
   "outputs": [
    {
     "data": {
      "text/plain": [
       "10"
      ]
     },
     "execution_count": 2,
     "metadata": {},
     "output_type": "execute_result"
    }
   ],
   "source": [
    "# len \n",
    "len(name)"
   ]
  },
  {
   "cell_type": "code",
   "execution_count": 3,
   "id": "24c7742f",
   "metadata": {},
   "outputs": [
    {
     "data": {
      "text/plain": [
       "'blockchain'"
      ]
     },
     "execution_count": 3,
     "metadata": {},
     "output_type": "execute_result"
    }
   ],
   "source": [
    "#  lowercase\n",
    "name .lower()"
   ]
  },
  {
   "cell_type": "code",
   "execution_count": 4,
   "id": "451fdb45",
   "metadata": {},
   "outputs": [
    {
     "data": {
      "text/plain": [
       "'BLOCKCHAIN'"
      ]
     },
     "execution_count": 4,
     "metadata": {},
     "output_type": "execute_result"
    }
   ],
   "source": [
    "# uppercase\n",
    "name .upper()"
   ]
  },
  {
   "cell_type": "code",
   "execution_count": null,
   "id": "6d45786e",
   "metadata": {},
   "outputs": [
    {
     "data": {
      "text/plain": [
       "'blockchain'"
      ]
     },
     "execution_count": 14,
     "metadata": {},
     "output_type": "execute_result"
    }
   ],
   "source": [
    "# removes spaces\n",
    "name = ' blockchain'\n",
    "name = name .strip()\n",
    "name"
   ]
  },
  {
   "cell_type": "code",
   "execution_count": null,
   "id": "f09e3e59",
   "metadata": {},
   "outputs": [
    {
     "data": {
      "text/plain": [
       "'network'"
      ]
     },
     "execution_count": 8,
     "metadata": {},
     "output_type": "execute_result"
    }
   ],
   "source": [
    "# replaces old substring with new substring\n",
    "x = 'blockchain'\n",
    "x = x.replace('blockchain', 'network')\n",
    "x"
   ]
  },
  {
   "cell_type": "code",
   "execution_count": null,
   "id": "af6517e7",
   "metadata": {},
   "outputs": [
    {
     "data": {
      "text/plain": [
       "['blockchain', ' crypto', ' asset', ' price']"
      ]
     },
     "execution_count": 13,
     "metadata": {},
     "output_type": "execute_result"
    }
   ],
   "source": [
    "# split inti a list\n",
    "y = 'blockchain, crypto, asset, price'\n",
    "y .split (',')"
   ]
  },
  {
   "cell_type": "code",
   "execution_count": 15,
   "id": "2d5bd42a",
   "metadata": {},
   "outputs": [
    {
     "data": {
      "text/plain": [
       "True"
      ]
     },
     "execution_count": 15,
     "metadata": {},
     "output_type": "execute_result"
    }
   ],
   "source": [
    "# In checks for substring\n",
    "\n",
    "y = 'cryptoasset'\n",
    "'asset' in y"
   ]
  },
  {
   "cell_type": "markdown",
   "id": "12b30881",
   "metadata": {},
   "source": [
    "# List\n",
    "\n",
    "A list of mutable collection of elements"
   ]
  },
  {
   "cell_type": "code",
   "execution_count": 46,
   "id": "4738468c",
   "metadata": {},
   "outputs": [
    {
     "name": "stdout",
     "output_type": "stream",
     "text": [
      "<class 'list'>\n"
     ]
    }
   ],
   "source": [
    "tokens = ['ETH', 'BTC', 'SOL', 'ADA']\n",
    "print(type(tokens))"
   ]
  },
  {
   "cell_type": "code",
   "execution_count": 33,
   "id": "f6338c85",
   "metadata": {},
   "outputs": [
    {
     "data": {
      "text/plain": [
       "4"
      ]
     },
     "execution_count": 33,
     "metadata": {},
     "output_type": "execute_result"
    }
   ],
   "source": [
    "# length \n",
    "len(tokens)"
   ]
  },
  {
   "cell_type": "code",
   "execution_count": 34,
   "id": "426ff9cc",
   "metadata": {},
   "outputs": [
    {
     "data": {
      "text/plain": [
       "['ETH', 'BTC', 'SOL', 'ADA', 'DOT']"
      ]
     },
     "execution_count": 34,
     "metadata": {},
     "output_type": "execute_result"
    }
   ],
   "source": [
    "# .append(x) to add to th end of a list\n",
    "\n",
    "tokens .append('DOT')\n",
    "\n",
    "tokens\n",
    "\n"
   ]
  },
  {
   "cell_type": "code",
   "execution_count": 35,
   "id": "64536bf0",
   "metadata": {},
   "outputs": [
    {
     "data": {
      "text/plain": [
       "['Matic', 'ETH', 'BTC', 'SOL', 'ADA', 'DOT']"
      ]
     },
     "execution_count": 35,
     "metadata": {},
     "output_type": "execute_result"
    }
   ],
   "source": [
    "# insert ()\n",
    "\n",
    "tokens .insert (0, 'Matic')\n",
    "\n",
    "tokens\n"
   ]
  },
  {
   "cell_type": "code",
   "execution_count": 41,
   "id": "81d351a1",
   "metadata": {},
   "outputs": [
    {
     "name": "stdout",
     "output_type": "stream",
     "text": [
      "['Matic', 'BTC', 'ADA', 'DOT']\n"
     ]
    }
   ],
   "source": [
    "# remove(x) to remove the first match\n",
    "\n",
    "tokens .remove('ETH')\n",
    "\n",
    "print(tokens)"
   ]
  },
  {
   "cell_type": "code",
   "execution_count": 43,
   "id": "154d6bdc",
   "metadata": {},
   "outputs": [
    {
     "data": {
      "text/plain": [
       "['ADA', 'DOT']"
      ]
     },
     "execution_count": 43,
     "metadata": {},
     "output_type": "execute_result"
    }
   ],
   "source": [
    "# .pop()\n",
    "\n",
    "tokens .pop(0)\n",
    "\n",
    "tokens"
   ]
  },
  {
   "cell_type": "code",
   "execution_count": null,
   "id": "ad970bc9",
   "metadata": {},
   "outputs": [
    {
     "data": {
      "text/plain": [
       "['ADA', 'BTC', 'ETH', 'SOL']"
      ]
     },
     "execution_count": 47,
     "metadata": {},
     "output_type": "execute_result"
    }
   ],
   "source": [
    "# sort() sort the list in ascending order\n",
    "\n",
    "tokens .sort()\n",
    "\n",
    "tokens\n",
    "\n",
    "\n"
   ]
  },
  {
   "cell_type": "code",
   "execution_count": 49,
   "id": "a5ceedcc",
   "metadata": {},
   "outputs": [
    {
     "data": {
      "text/plain": [
       "['ADA', 'BTC', 'ETH', 'SOL']"
      ]
     },
     "execution_count": 49,
     "metadata": {},
     "output_type": "execute_result"
    }
   ],
   "source": [
    "# . reverse()\n",
    "tokens .reverse()\n",
    "\n",
    "tokens"
   ]
  },
  {
   "cell_type": "markdown",
   "id": "78420f4a",
   "metadata": {},
   "source": [
    "# Indexing and Slicing"
   ]
  },
  {
   "cell_type": "code",
   "execution_count": 53,
   "id": "c300a7d0",
   "metadata": {},
   "outputs": [
    {
     "data": {
      "text/plain": [
       "('BTC', 'TIA')"
      ]
     },
     "execution_count": 53,
     "metadata": {},
     "output_type": "execute_result"
    }
   ],
   "source": [
    "z = ['ETH', 'BTC', 'SOL', 'ADA', 'TIA']\n",
    "\n",
    "z[0]\n",
    "\n",
    "z[1:3]\n",
    "\n",
    "z[1],z[4]"
   ]
  },
  {
   "cell_type": "markdown",
   "id": "bd614ee7",
   "metadata": {},
   "source": [
    "# Tuple\n",
    "\n",
    "An ordered immutable collection of dict(AN UNORDERED)"
   ]
  },
  {
   "cell_type": "code",
   "execution_count": 61,
   "id": "60618dcf",
   "metadata": {},
   "outputs": [
    {
     "data": {
      "text/plain": [
       "{'address': '0x123456', 'balance': 10.5, 'is_active': True}"
      ]
     },
     "execution_count": 61,
     "metadata": {},
     "output_type": "execute_result"
    }
   ],
   "source": [
    "wallet = {\n",
    "    'address': '0x123456',\n",
    "    'balance': 10.5,\n",
    "    'is_active': True,\n",
    "    }\n",
    " \n",
    "wallet"
   ]
  },
  {
   "cell_type": "code",
   "execution_count": 62,
   "id": "37864476",
   "metadata": {},
   "outputs": [
    {
     "data": {
      "text/plain": [
       "10.5"
      ]
     },
     "execution_count": 62,
     "metadata": {},
     "output_type": "execute_result"
    }
   ],
   "source": [
    "wallet['balance']"
   ]
  },
  {
   "cell_type": "code",
   "execution_count": null,
   "id": "33a62b65",
   "metadata": {},
   "outputs": [
    {
     "data": {
      "text/plain": [
       "True"
      ]
     },
     "execution_count": 63,
     "metadata": {},
     "output_type": "execute_result"
    }
   ],
   "source": [
    "\n",
    "\n",
    "wallet.get('is_active')"
   ]
  },
  {
   "cell_type": "code",
   "execution_count": null,
   "id": "7fb50cbb",
   "metadata": {},
   "outputs": [
    {
     "data": {
      "text/plain": [
       "dict_keys(['address', 'balance', 'is_active'])"
      ]
     },
     "execution_count": 64,
     "metadata": {},
     "output_type": "execute_result"
    }
   ],
   "source": [
    "# to call out keys of dict\n",
    "\n",
    "wallet.keys()"
   ]
  },
  {
   "cell_type": "code",
   "execution_count": null,
   "id": "5a7468e1",
   "metadata": {},
   "outputs": [
    {
     "data": {
      "text/plain": [
       "dict_values(['0x123456', 10.5, True])"
      ]
     },
     "execution_count": 65,
     "metadata": {},
     "output_type": "execute_result"
    }
   ],
   "source": [
    "# to call out values of dict\n",
    "\n",
    "wallet.values()\n"
   ]
  },
  {
   "cell_type": "code",
   "execution_count": null,
   "id": "856405b7",
   "metadata": {},
   "outputs": [
    {
     "data": {
      "text/plain": [
       "dict_items([('address', '0x123456'), ('balance', 10.5), ('is_active', True)])"
      ]
     },
     "execution_count": 67,
     "metadata": {},
     "output_type": "execute_result"
    }
   ],
   "source": [
    "# to call out items and theor values\n",
    "\n",
    "wallet.items()"
   ]
  },
  {
   "cell_type": "code",
   "execution_count": null,
   "id": "61871611",
   "metadata": {},
   "outputs": [
    {
     "data": {
      "text/plain": [
       "{'address': '0x123456', 'balance': 20, 'is_active': True}"
      ]
     },
     "execution_count": 71,
     "metadata": {},
     "output_type": "execute_result"
    }
   ],
   "source": [
    "# to update a value in the dict\n",
    "\n",
    "wallet.update({'balance': 20})\n",
    "\n",
    "wallet"
   ]
  },
  {
   "cell_type": "code",
   "execution_count": null,
   "id": "c2e1ff14",
   "metadata": {},
   "outputs": [],
   "source": []
  }
 ],
 "metadata": {
  "kernelspec": {
   "display_name": "pythonZ",
   "language": "python",
   "name": "python3"
  },
  "language_info": {
   "codemirror_mode": {
    "name": "ipython",
    "version": 3
   },
   "file_extension": ".py",
   "mimetype": "text/x-python",
   "name": "python",
   "nbconvert_exporter": "python",
   "pygments_lexer": "ipython3",
   "version": "3.10.11"
  }
 },
 "nbformat": 4,
 "nbformat_minor": 5
}
