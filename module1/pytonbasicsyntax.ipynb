{
 "cells": [
  {
   "cell_type": "markdown",
   "id": "33df283a",
   "metadata": {},
   "source": [
    "# PYTON BASIC SYNTAX\n",
    "\n",
    "It is a set of rules that define how python code shuld be ran \n",
    "\n",
    "##Key to know\n",
    "\n",
    "Comment ; Used as sticky notes on your project usually starts with #\n",
    "\n",
    "Indentation ; Python uses them to group codes(spaces/tabs)\n",
    "\n",
    "code blocks ; session of code that belong together\n",
    "\n",
    "kayords ; special words python reserves\n"
   ]
  },
  {
   "cell_type": "markdown",
   "id": "87c75c99",
   "metadata": {},
   "source": []
  },
  {
   "cell_type": "markdown",
   "id": "9834d98a",
   "metadata": {},
   "source": [
    "# COMMENT"
   ]
  },
  {
   "cell_type": "code",
   "execution_count": 11,
   "id": "dc58bfb0",
   "metadata": {},
   "outputs": [],
   "source": [
    "#COMMENT \n",
    "#This ia a comment that uses #\n",
    "\n",
    "a = 2\n",
    "b = 3\n",
    "\n",
    "# add a + b to get c "
   ]
  },
  {
   "cell_type": "markdown",
   "id": "af795c1a",
   "metadata": {},
   "source": [
    "# INTENTATION (SPACES AND TABS)"
   ]
  },
  {
   "cell_type": "code",
   "execution_count": 12,
   "id": "b8d83554",
   "metadata": {},
   "outputs": [
    {
     "name": "stdout",
     "output_type": "stream",
     "text": [
      "This is a buy\n"
     ]
    }
   ],
   "source": [
    "btc = 100000\n",
    "if btc > 90000:\n",
    "    print(\"This is a buy\")\n"
   ]
  },
  {
   "cell_type": "markdown",
   "id": "af87b109",
   "metadata": {},
   "source": [
    "# Code block\n",
    "A group of lines of python codes that run together"
   ]
  },
  {
   "cell_type": "code",
   "execution_count": 14,
   "id": "6ae8bfcf",
   "metadata": {},
   "outputs": [
    {
     "name": "stdout",
     "output_type": "stream",
     "text": [
      "1\n",
      "2\n",
      "3\n",
      "4\n",
      "1\n",
      "2\n",
      "3\n",
      "4\n",
      "1\n",
      "2\n",
      "3\n",
      "4\n"
     ]
    }
   ],
   "source": [
    "# A CODE BLOCK IS A GROUP OF CODE PYTHON RUNS TOGETHER\n",
    "\n",
    "for i in range(1, 4):\n",
    "    for i in range(1,5):\n",
    "        print(i)"
   ]
  },
  {
   "cell_type": "code",
   "execution_count": 16,
   "id": "0c42ac99",
   "metadata": {},
   "outputs": [
    {
     "ename": "SyntaxError",
     "evalue": "invalid syntax (2318492055.py, line 5)",
     "output_type": "error",
     "traceback": [
      "\u001b[0;36m  Cell \u001b[0;32mIn[16], line 5\u001b[0;36m\u001b[0m\n\u001b[0;31m    if\u001b[0m\n\u001b[0m      ^\u001b[0m\n\u001b[0;31mSyntaxError\u001b[0m\u001b[0;31m:\u001b[0m invalid syntax\n"
     ]
    }
   ],
   "source": [
    "# Python reserved words \n",
    "\n",
    "# keywords \n",
    "\n",
    "if\n",
    "else\n",
    "elif\n",
    "for \n",
    "in"
   ]
  },
  {
   "cell_type": "markdown",
   "id": "8830ad2b",
   "metadata": {},
   "source": [
    "## Output"
   ]
  },
  {
   "cell_type": "code",
   "execution_count": 17,
   "id": "a3d8e01e",
   "metadata": {},
   "outputs": [
    {
     "name": "stdout",
     "output_type": "stream",
     "text": [
      "20\n"
     ]
    }
   ],
   "source": [
    "a = 20\n",
    "print(a)"
   ]
  },
  {
   "cell_type": "markdown",
   "id": "2ea7782a",
   "metadata": {},
   "source": [
    "# F string\n",
    "\n",
    "A way to embed expressions inside a string literal in python, makes string formating more readable and concise \n",
    "\n",
    "use an F{}"
   ]
  },
  {
   "cell_type": "code",
   "execution_count": 20,
   "id": "953c20ba",
   "metadata": {},
   "outputs": [
    {
     "name": "stdout",
     "output_type": "stream",
     "text": [
      "I am intrested in investing $1000 in sol!\n"
     ]
    }
   ],
   "source": [
    "crypto_assets = 'sol'\n",
    "print (f'I am intrested in investing $1000 in {crypto_assets}!')"
   ]
  },
  {
   "cell_type": "markdown",
   "id": "ac10f5a2",
   "metadata": {},
   "source": [
    "# Input \n",
    "Used to create a dynamic response"
   ]
  },
  {
   "cell_type": "code",
   "execution_count": 21,
   "id": "ef3d8c46",
   "metadata": {},
   "outputs": [
    {
     "name": "stdout",
     "output_type": "stream",
     "text": [
      "My favorite crypto asset is Bitcoin\n"
     ]
    }
   ],
   "source": [
    "crypto = input('what is your favorite crypto asset?')\n",
    "print(\"My favorite crypto asset is \" + crypto)"
   ]
  },
  {
   "cell_type": "code",
   "execution_count": 29,
   "id": "6fef5566",
   "metadata": {},
   "outputs": [
    {
     "name": "stdout",
     "output_type": "stream",
     "text": [
      "you are 60 years old\n"
     ]
    }
   ],
   "source": [
    "age = int(input (\"enter your age:\"))\n",
    "print (f'you are {age} years old')"
   ]
  },
  {
   "cell_type": "markdown",
   "id": "28b76c78",
   "metadata": {},
   "source": [
    "VARIABLE \n",
    "It is a named containers that stores data\n",
    "\n",
    "rules to naming a variable\n",
    "start with a letter or an underscore no space or symbol\n",
    "case senstive name =/ Name\n",
    "avoid py"
   ]
  },
  {
   "cell_type": "markdown",
   "id": "63f7ecce",
   "metadata": {},
   "source": [
    "# Data Types\n",
    "\n",
    "Specifies the category of data a variable can store, determing its behavior and allowed operation \n",
    "\n",
    "## Text data type\n",
    "\n",
    "String \n",
    "\n",
    "place = \"Lagos\"\n",
    "country = \"Nigeria\"\n",
    "\n",
    "# Numeric data Type\n",
    "\n",
    "Types \n",
    "integar : Whole number\n",
    "float : decimal\n",
    "\n",
    "number = 10 this is an integar numeric data type\n",
    "height = 5.5 this is a float numeric data type\n",
    "\n"
   ]
  },
  {
   "cell_type": "markdown",
   "id": "44a75037",
   "metadata": {},
   "source": [
    "# Boolean variable\n",
    "\n",
    "True or False\n",
    "\n",
    "is_valid = True\n",
    "\n",
    "invalid = false\n",
    "\n"
   ]
  },
  {
   "cell_type": "markdown",
   "id": "235083d8",
   "metadata": {},
   "source": [
    "# Sequence data types\n",
    "\n"
   ]
  },
  {
   "cell_type": "code",
   "execution_count": 30,
   "id": "92b2bdca",
   "metadata": {},
   "outputs": [
    {
     "name": "stdout",
     "output_type": "stream",
     "text": [
      "['sol', 'btc', 'eth']\n"
     ]
    }
   ],
   "source": [
    "crypto = ['sol', 'btc', 'eth']\n",
    "print(crypto)"
   ]
  },
  {
   "cell_type": "code",
   "execution_count": 33,
   "id": "6b7f8c1a",
   "metadata": {},
   "outputs": [
    {
     "name": "stdout",
     "output_type": "stream",
     "text": [
      "{'sol': 200, 'btc': 115000, 'eth': 4000}\n"
     ]
    }
   ],
   "source": [
    "dict = {'sol' : 200, 'btc' : 115000, 'eth' : 4000}\n",
    "print(dict)"
   ]
  },
  {
   "cell_type": "code",
   "execution_count": null,
   "id": "aa4441ca",
   "metadata": {},
   "outputs": [],
   "source": [
    "# Sequence Types\n",
    "list examples = [1, 2, 3, 4]\n",
    "tuple examples = {1, 2, 3, 4} # orderes collection of list but immutable\n",
    "dictionary examples = {'key1' : valuue1, 'key2' : value2} \n",
    "set exaamples = {1, 4, 5, 6} # unordered collection of unique items(no duplicates)\n",
    "\n",
    "\n"
   ]
  },
  {
   "cell_type": "markdown",
   "id": "e6cb7776",
   "metadata": {},
   "source": [
    "# None Data Type"
   ]
  },
  {
   "cell_type": "code",
   "execution_count": null,
   "id": "a560ec2c",
   "metadata": {},
   "outputs": [],
   "source": [
    "noone_value = None"
   ]
  },
  {
   "cell_type": "markdown",
   "id": "cb2e7485",
   "metadata": {},
   "source": [
    "# Checking Data Types \n"
   ]
  },
  {
   "cell_type": "code",
   "execution_count": 34,
   "id": "1bbd4dc6",
   "metadata": {},
   "outputs": [
    {
     "name": "stdout",
     "output_type": "stream",
     "text": [
      "<class 'dict'>\n"
     ]
    }
   ],
   "source": [
    "data = {'name': 'Alice', 'age':30}\n",
    "print(type(data))"
   ]
  },
  {
   "cell_type": "markdown",
   "id": "0195293e",
   "metadata": {},
   "source": [
    "# Converting Data types"
   ]
  },
  {
   "cell_type": "code",
   "execution_count": 36,
   "id": "3239004f",
   "metadata": {},
   "outputs": [
    {
     "name": "stdout",
     "output_type": "stream",
     "text": [
      "20\n"
     ]
    }
   ],
   "source": [
    "age = '20'\n",
    "age = int(age)\n",
    "print(age)"
   ]
  }
 ],
 "metadata": {
  "kernelspec": {
   "display_name": "pythonZ",
   "language": "python",
   "name": "python3"
  },
  "language_info": {
   "codemirror_mode": {
    "name": "ipython",
    "version": 3
   },
   "file_extension": ".py",
   "mimetype": "text/x-python",
   "name": "python",
   "nbconvert_exporter": "python",
   "pygments_lexer": "ipython3",
   "version": "3.10.11"
  }
 },
 "nbformat": 4,
 "nbformat_minor": 5
}
